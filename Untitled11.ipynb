{
 "cells": [
  {
   "cell_type": "code",
   "execution_count": 1,
   "id": "expressed-geneva",
   "metadata": {},
   "outputs": [],
   "source": [
    "def add(a, b):\n",
    "    return a + b\n",
    "\n"
   ]
  },
  {
   "cell_type": "code",
   "execution_count": 2,
   "id": "narrative-simon",
   "metadata": {},
   "outputs": [],
   "source": [
    "a = 3"
   ]
  },
  {
   "cell_type": "code",
   "execution_count": 3,
   "id": "convertible-richmond",
   "metadata": {},
   "outputs": [],
   "source": [
    "b = 4"
   ]
  },
  {
   "cell_type": "code",
   "execution_count": 4,
   "id": "working-navigator",
   "metadata": {},
   "outputs": [],
   "source": [
    "c = add(a,b)"
   ]
  },
  {
   "cell_type": "code",
   "execution_count": 5,
   "id": "sharing-cancer",
   "metadata": {},
   "outputs": [
    {
     "name": "stdout",
     "output_type": "stream",
     "text": [
      "7\n"
     ]
    }
   ],
   "source": [
    "print(c)"
   ]
  },
  {
   "cell_type": "code",
   "execution_count": 6,
   "id": "liked-spending",
   "metadata": {},
   "outputs": [
    {
     "name": "stdout",
     "output_type": "stream",
     "text": [
      "7\n"
     ]
    }
   ],
   "source": [
    "def add(a,b):\n",
    "    return a + b\n",
    "\n",
    "\n",
    "print(add(3,4))"
   ]
  },
  {
   "cell_type": "code",
   "execution_count": 7,
   "id": "comparable-heavy",
   "metadata": {},
   "outputs": [],
   "source": [
    "def add(a,b):\n",
    "    result = a + b\n",
    "    return result\n"
   ]
  },
  {
   "cell_type": "code",
   "execution_count": 8,
   "id": "golden-exception",
   "metadata": {},
   "outputs": [],
   "source": [
    "a = add(3,4)"
   ]
  },
  {
   "cell_type": "code",
   "execution_count": 9,
   "id": "excellent-rating",
   "metadata": {},
   "outputs": [
    {
     "name": "stdout",
     "output_type": "stream",
     "text": [
      "7\n"
     ]
    }
   ],
   "source": [
    "print(a)"
   ]
  },
  {
   "cell_type": "code",
   "execution_count": 10,
   "id": "unavailable-contrast",
   "metadata": {},
   "outputs": [
    {
     "ename": "IndentationError",
     "evalue": "expected an indented block (<ipython-input-10-837ea989c7e8>, line 1)",
     "output_type": "error",
     "traceback": [
      "\u001b[1;36m  File \u001b[1;32m\"<ipython-input-10-837ea989c7e8>\"\u001b[1;36m, line \u001b[1;32m1\u001b[0m\n\u001b[1;33m    def say():\u001b[0m\n\u001b[1;37m              ^\u001b[0m\n\u001b[1;31mIndentationError\u001b[0m\u001b[1;31m:\u001b[0m expected an indented block\n"
     ]
    }
   ],
   "source": [
    "def say():"
   ]
  },
  {
   "cell_type": "code",
   "execution_count": 11,
   "id": "metallic-sector",
   "metadata": {},
   "outputs": [],
   "source": [
    "def say():\n",
    "    return 'Hi'\n",
    "\n"
   ]
  },
  {
   "cell_type": "code",
   "execution_count": 12,
   "id": "logical-issue",
   "metadata": {},
   "outputs": [],
   "source": [
    "a = say()"
   ]
  },
  {
   "cell_type": "code",
   "execution_count": 13,
   "id": "classified-piano",
   "metadata": {},
   "outputs": [
    {
     "name": "stdout",
     "output_type": "stream",
     "text": [
      "Hi\n"
     ]
    }
   ],
   "source": [
    "print(a)"
   ]
  },
  {
   "cell_type": "code",
   "execution_count": 14,
   "id": "accredited-valley",
   "metadata": {},
   "outputs": [],
   "source": [
    "def add(a,b):\n",
    "    print(\"%d, %d의 합은 %d입니다.\" % (a,b, a+b))\n",
    "    \n",
    "    "
   ]
  },
  {
   "cell_type": "code",
   "execution_count": 15,
   "id": "strange-ministry",
   "metadata": {},
   "outputs": [
    {
     "name": "stdout",
     "output_type": "stream",
     "text": [
      "3, 4의 합은 7입니다.\n"
     ]
    }
   ],
   "source": [
    "add(3, 4)"
   ]
  },
  {
   "cell_type": "code",
   "execution_count": 16,
   "id": "perceived-black",
   "metadata": {},
   "outputs": [
    {
     "name": "stdout",
     "output_type": "stream",
     "text": [
      "3, 4의 합은 7입니다.\n"
     ]
    }
   ],
   "source": [
    "a = add(3, 4)"
   ]
  },
  {
   "cell_type": "code",
   "execution_count": 17,
   "id": "thrown-garden",
   "metadata": {},
   "outputs": [],
   "source": [
    "def say():\n",
    "    print('Hi')\n",
    "    \n",
    "    "
   ]
  },
  {
   "cell_type": "code",
   "execution_count": 18,
   "id": "excited-police",
   "metadata": {},
   "outputs": [
    {
     "name": "stdout",
     "output_type": "stream",
     "text": [
      "Hi\n"
     ]
    }
   ],
   "source": [
    "say()"
   ]
  },
  {
   "cell_type": "code",
   "execution_count": 19,
   "id": "elegant-artist",
   "metadata": {},
   "outputs": [],
   "source": [
    "def add(a,b):\n",
    "    return a+b\n"
   ]
  },
  {
   "cell_type": "code",
   "execution_count": 20,
   "id": "bibliographic-beads",
   "metadata": {},
   "outputs": [],
   "source": [
    "result = add(a=3, b=7)"
   ]
  },
  {
   "cell_type": "code",
   "execution_count": 21,
   "id": "otherwise-enforcement",
   "metadata": {},
   "outputs": [
    {
     "name": "stdout",
     "output_type": "stream",
     "text": [
      "10\n"
     ]
    }
   ],
   "source": [
    "print(result)"
   ]
  },
  {
   "cell_type": "code",
   "execution_count": 22,
   "id": "baking-nation",
   "metadata": {},
   "outputs": [],
   "source": [
    "result = add(b=5, a=3)"
   ]
  },
  {
   "cell_type": "code",
   "execution_count": 23,
   "id": "superior-pound",
   "metadata": {},
   "outputs": [
    {
     "name": "stdout",
     "output_type": "stream",
     "text": [
      "8\n"
     ]
    }
   ],
   "source": [
    "print(result)"
   ]
  },
  {
   "cell_type": "code",
   "execution_count": 24,
   "id": "classical-front",
   "metadata": {},
   "outputs": [],
   "source": [
    "def add_many(*args):\n",
    "    result = 0\n",
    "    for i in args:\n",
    "        result = result + i\n",
    "    return result\n",
    "\n"
   ]
  },
  {
   "cell_type": "code",
   "execution_count": 25,
   "id": "undefined-washington",
   "metadata": {},
   "outputs": [],
   "source": [
    "result = add_many(1,2,3)"
   ]
  },
  {
   "cell_type": "code",
   "execution_count": 26,
   "id": "chinese-modern",
   "metadata": {},
   "outputs": [
    {
     "name": "stdout",
     "output_type": "stream",
     "text": [
      "6\n"
     ]
    }
   ],
   "source": [
    "print(result)"
   ]
  },
  {
   "cell_type": "code",
   "execution_count": 27,
   "id": "virtual-globe",
   "metadata": {},
   "outputs": [],
   "source": [
    "result = add_many(1,2,3,4,5,6,7,8,9,10)"
   ]
  },
  {
   "cell_type": "code",
   "execution_count": 28,
   "id": "concrete-lunch",
   "metadata": {},
   "outputs": [
    {
     "name": "stdout",
     "output_type": "stream",
     "text": [
      "55\n"
     ]
    }
   ],
   "source": [
    "print(result)"
   ]
  },
  {
   "cell_type": "code",
   "execution_count": 29,
   "id": "engaged-phoenix",
   "metadata": {},
   "outputs": [],
   "source": [
    "def add_mul(choice, *args):\n",
    "    if choice == \"add\":\n",
    "        result = 0\n",
    "        for i in args:\n",
    "            result = result + i\n",
    "    elif choice == \"mul\":\n",
    "        result = 1\n",
    "        for i in args:\n",
    "            result = result * i\n",
    "    return result\n",
    "\n"
   ]
  },
  {
   "cell_type": "code",
   "execution_count": 30,
   "id": "changing-sellers",
   "metadata": {},
   "outputs": [],
   "source": [
    "result = add_mul('add', 1,2,3,4,5)"
   ]
  },
  {
   "cell_type": "code",
   "execution_count": 31,
   "id": "promotional-notion",
   "metadata": {},
   "outputs": [
    {
     "name": "stdout",
     "output_type": "stream",
     "text": [
      "15\n"
     ]
    }
   ],
   "source": [
    "print(result)"
   ]
  },
  {
   "cell_type": "code",
   "execution_count": 32,
   "id": "executed-superintendent",
   "metadata": {},
   "outputs": [],
   "source": [
    "result = add_mul('mul', 1,2,3,4,5)"
   ]
  },
  {
   "cell_type": "code",
   "execution_count": 33,
   "id": "referenced-smart",
   "metadata": {},
   "outputs": [
    {
     "name": "stdout",
     "output_type": "stream",
     "text": [
      "120\n"
     ]
    }
   ],
   "source": [
    "print(result)"
   ]
  },
  {
   "cell_type": "code",
   "execution_count": 34,
   "id": "imported-collect",
   "metadata": {},
   "outputs": [],
   "source": [
    "def add_and_mul(a,b):\n",
    "    return a+b, a*b\n"
   ]
  },
  {
   "cell_type": "code",
   "execution_count": 35,
   "id": "actual-clarity",
   "metadata": {},
   "outputs": [],
   "source": [
    "result = add_and_mul(3,4)"
   ]
  },
  {
   "cell_type": "code",
   "execution_count": 36,
   "id": "divided-struggle",
   "metadata": {},
   "outputs": [],
   "source": [
    "result = (7, 12)"
   ]
  },
  {
   "cell_type": "code",
   "execution_count": null,
   "id": "surrounded-corps",
   "metadata": {},
   "outputs": [],
   "source": [
    "result1, result2 = add_and_mul(3,4)"
   ]
  }
 ],
 "metadata": {
  "kernelspec": {
   "display_name": "Python 3",
   "language": "python",
   "name": "python3"
  },
  "language_info": {
   "codemirror_mode": {
    "name": "ipython",
    "version": 3
   },
   "file_extension": ".py",
   "mimetype": "text/x-python",
   "name": "python",
   "nbconvert_exporter": "python",
   "pygments_lexer": "ipython3",
   "version": "3.9.2"
  }
 },
 "nbformat": 4,
 "nbformat_minor": 5
}
