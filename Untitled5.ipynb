{
 "cells": [
  {
   "cell_type": "code",
   "execution_count": null,
   "id": "damaged-orange",
   "metadata": {},
   "outputs": [],
   "source": []
  },
  {
   "cell_type": "code",
   "execution_count": null,
   "id": "applicable-constitution",
   "metadata": {},
   "outputs": [],
   "source": []
  },
  {
   "cell_type": "code",
   "execution_count": null,
   "id": "broke-toolbox",
   "metadata": {},
   "outputs": [],
   "source": []
  },
  {
   "cell_type": "code",
   "execution_count": 3,
   "id": "appropriate-digit",
   "metadata": {
    "scrolled": true
   },
   "outputs": [
    {
     "data": {
      "text/plain": [
       "'I eat 3 apples.'"
      ]
     },
     "execution_count": 3,
     "metadata": {},
     "output_type": "execute_result"
    }
   ],
   "source": [
    "\"I eat %d apples.\" %3"
   ]
  },
  {
   "cell_type": "code",
   "execution_count": 4,
   "id": "described-explosion",
   "metadata": {},
   "outputs": [
    {
     "data": {
      "text/plain": [
       "'I eat five apples,'"
      ]
     },
     "execution_count": 4,
     "metadata": {},
     "output_type": "execute_result"
    }
   ],
   "source": [
    "\"I eat %s apples,\" %\"five\""
   ]
  },
  {
   "cell_type": "code",
   "execution_count": 5,
   "id": "joint-mirror",
   "metadata": {},
   "outputs": [],
   "source": [
    "number = 3"
   ]
  },
  {
   "cell_type": "code",
   "execution_count": 6,
   "id": "postal-fifteen",
   "metadata": {},
   "outputs": [
    {
     "ename": "NameError",
     "evalue": "name 'unmder' is not defined",
     "output_type": "error",
     "traceback": [
      "\u001b[1;31m---------------------------------------------------------------------------\u001b[0m",
      "\u001b[1;31mNameError\u001b[0m                                 Traceback (most recent call last)",
      "\u001b[1;32m<ipython-input-6-5ba91774c1f8>\u001b[0m in \u001b[0;36m<module>\u001b[1;34m\u001b[0m\n\u001b[1;32m----> 1\u001b[1;33m \u001b[1;34m\"I eat %d apples.\"\u001b[0m \u001b[1;33m%\u001b[0m\u001b[0munmder\u001b[0m\u001b[1;33m\u001b[0m\u001b[1;33m\u001b[0m\u001b[0m\n\u001b[0m",
      "\u001b[1;31mNameError\u001b[0m: name 'unmder' is not defined"
     ]
    }
   ],
   "source": [
    "\"I eat %d apples.\" %unmder"
   ]
  },
  {
   "cell_type": "code",
   "execution_count": 7,
   "id": "motivated-daniel",
   "metadata": {},
   "outputs": [
    {
     "data": {
      "text/plain": [
       "'I eat 3 apples.'"
      ]
     },
     "execution_count": 7,
     "metadata": {},
     "output_type": "execute_result"
    }
   ],
   "source": [
    "\"I eat %d apples.\" %number"
   ]
  },
  {
   "cell_type": "code",
   "execution_count": 8,
   "id": "brief-albuquerque",
   "metadata": {},
   "outputs": [],
   "source": [
    "number = 10"
   ]
  },
  {
   "cell_type": "code",
   "execution_count": 9,
   "id": "integral-tuition",
   "metadata": {},
   "outputs": [],
   "source": [
    "day = \"three\""
   ]
  },
  {
   "cell_type": "code",
   "execution_count": 10,
   "id": "printable-thought",
   "metadata": {},
   "outputs": [
    {
     "data": {
      "text/plain": [
       "'I ate 10 apples. so I was sick for three days.'"
      ]
     },
     "execution_count": 10,
     "metadata": {},
     "output_type": "execute_result"
    }
   ],
   "source": [
    "\"I ate %d apples. so I was sick for %s days.\" % (number, day)"
   ]
  },
  {
   "cell_type": "code",
   "execution_count": 11,
   "id": "pregnant-enterprise",
   "metadata": {},
   "outputs": [],
   "source": [
    "a = \"hobby\""
   ]
  },
  {
   "cell_type": "code",
   "execution_count": 12,
   "id": "ruled-animation",
   "metadata": {},
   "outputs": [
    {
     "data": {
      "text/plain": [
       "2"
      ]
     },
     "execution_count": 12,
     "metadata": {},
     "output_type": "execute_result"
    }
   ],
   "source": [
    "a.count('b')"
   ]
  },
  {
   "cell_type": "code",
   "execution_count": 13,
   "id": "similar-stockholm",
   "metadata": {},
   "outputs": [],
   "source": [
    "a = \"Python is the best chioce\""
   ]
  },
  {
   "cell_type": "code",
   "execution_count": 14,
   "id": "catholic-circuit",
   "metadata": {},
   "outputs": [
    {
     "data": {
      "text/plain": [
       "14"
      ]
     },
     "execution_count": 14,
     "metadata": {},
     "output_type": "execute_result"
    }
   ],
   "source": [
    "a.find('b')"
   ]
  },
  {
   "cell_type": "code",
   "execution_count": 15,
   "id": "surprising-zambia",
   "metadata": {},
   "outputs": [
    {
     "data": {
      "text/plain": [
       "-1"
      ]
     },
     "execution_count": 15,
     "metadata": {},
     "output_type": "execute_result"
    }
   ],
   "source": [
    "a"
   ]
  },
  {
   "cell_type": "code",
   "execution_count": 16,
   "id": "located-slope",
   "metadata": {},
   "outputs": [],
   "source": [
    "a = \"Life is too short\""
   ]
  },
  {
   "cell_type": "code",
   "execution_count": 17,
   "id": "green-reason",
   "metadata": {},
   "outputs": [
    {
     "data": {
      "text/plain": [
       "8"
      ]
     },
     "execution_count": 17,
     "metadata": {},
     "output_type": "execute_result"
    }
   ],
   "source": [
    "a.index('t')"
   ]
  },
  {
   "cell_type": "code",
   "execution_count": 18,
   "id": "unable-consensus",
   "metadata": {},
   "outputs": [
    {
     "ename": "ValueError",
     "evalue": "substring not found",
     "output_type": "error",
     "traceback": [
      "\u001b[1;31m---------------------------------------------------------------------------\u001b[0m",
      "\u001b[1;31mValueError\u001b[0m                                Traceback (most recent call last)",
      "\u001b[1;32m<ipython-input-18-cb6c8ec35229>\u001b[0m in \u001b[0;36m<module>\u001b[1;34m\u001b[0m\n\u001b[1;32m----> 1\u001b[1;33m \u001b[0ma\u001b[0m\u001b[1;33m.\u001b[0m\u001b[0mindex\u001b[0m\u001b[1;33m(\u001b[0m\u001b[1;34m'k'\u001b[0m\u001b[1;33m)\u001b[0m\u001b[1;33m\u001b[0m\u001b[1;33m\u001b[0m\u001b[0m\n\u001b[0m",
      "\u001b[1;31mValueError\u001b[0m: substring not found"
     ]
    }
   ],
   "source": [
    "a.index('k')"
   ]
  },
  {
   "cell_type": "code",
   "execution_count": 19,
   "id": "organizational-cheese",
   "metadata": {},
   "outputs": [
    {
     "data": {
      "text/plain": [
       "'a,b,c,d'"
      ]
     },
     "execution_count": 19,
     "metadata": {},
     "output_type": "execute_result"
    }
   ],
   "source": [
    "\",\".join('abcd')"
   ]
  },
  {
   "cell_type": "code",
   "execution_count": 20,
   "id": "filled-syndication",
   "metadata": {},
   "outputs": [
    {
     "data": {
      "text/plain": [
       "'a,b,c,d'"
      ]
     },
     "execution_count": 20,
     "metadata": {},
     "output_type": "execute_result"
    }
   ],
   "source": [
    "\",\".join(['a','b','c','d'])"
   ]
  },
  {
   "cell_type": "code",
   "execution_count": 21,
   "id": "usual-cheat",
   "metadata": {},
   "outputs": [],
   "source": [
    "a = \"hi\""
   ]
  },
  {
   "cell_type": "code",
   "execution_count": 22,
   "id": "fitted-premises",
   "metadata": {},
   "outputs": [
    {
     "data": {
      "text/plain": [
       "'HI'"
      ]
     },
     "execution_count": 22,
     "metadata": {},
     "output_type": "execute_result"
    }
   ],
   "source": [
    "a.upper()"
   ]
  },
  {
   "cell_type": "code",
   "execution_count": 23,
   "id": "quarterly-muslim",
   "metadata": {},
   "outputs": [],
   "source": [
    "a = \"HI\""
   ]
  },
  {
   "cell_type": "code",
   "execution_count": 24,
   "id": "million-bargain",
   "metadata": {},
   "outputs": [
    {
     "data": {
      "text/plain": [
       "'hi'"
      ]
     },
     "execution_count": 24,
     "metadata": {},
     "output_type": "execute_result"
    }
   ],
   "source": [
    "a.lower()"
   ]
  },
  {
   "cell_type": "code",
   "execution_count": 25,
   "id": "confused-service",
   "metadata": {},
   "outputs": [],
   "source": [
    "a = \" hi \""
   ]
  },
  {
   "cell_type": "code",
   "execution_count": 26,
   "id": "weekly-johns",
   "metadata": {},
   "outputs": [
    {
     "data": {
      "text/plain": [
       "'hi'"
      ]
     },
     "execution_count": 26,
     "metadata": {},
     "output_type": "execute_result"
    }
   ],
   "source": [
    "a.lstrip()"
   ]
  },
  {
   "cell_type": "code",
   "execution_count": 27,
   "id": "perfect-breast",
   "metadata": {},
   "outputs": [],
   "source": [
    "a = \" hi \""
   ]
  },
  {
   "cell_type": "code",
   "execution_count": 28,
   "id": "forward-fitting",
   "metadata": {},
   "outputs": [
    {
     "data": {
      "text/plain": [
       "'hi '"
      ]
     },
     "execution_count": 28,
     "metadata": {},
     "output_type": "execute_result"
    }
   ],
   "source": [
    "a.lstrip()"
   ]
  },
  {
   "cell_type": "code",
   "execution_count": 29,
   "id": "protecting-selection",
   "metadata": {},
   "outputs": [],
   "source": [
    "a = \" hi \""
   ]
  },
  {
   "cell_type": "code",
   "execution_count": 30,
   "id": "opposed-helmet",
   "metadata": {},
   "outputs": [
    {
     "data": {
      "text/plain": [
       "' hi'"
      ]
     },
     "execution_count": 30,
     "metadata": {},
     "output_type": "execute_result"
    }
   ],
   "source": [
    "a.rstrip()"
   ]
  },
  {
   "cell_type": "code",
   "execution_count": 31,
   "id": "coordinated-victor",
   "metadata": {},
   "outputs": [],
   "source": [
    "a = \" hi \""
   ]
  },
  {
   "cell_type": "code",
   "execution_count": 32,
   "id": "promotional-tourist",
   "metadata": {},
   "outputs": [
    {
     "data": {
      "text/plain": [
       "'hi'"
      ]
     },
     "execution_count": 32,
     "metadata": {},
     "output_type": "execute_result"
    }
   ],
   "source": [
    "a.strip()"
   ]
  },
  {
   "cell_type": "code",
   "execution_count": 33,
   "id": "baking-washington",
   "metadata": {},
   "outputs": [],
   "source": [
    "a = \"Life is too short\""
   ]
  },
  {
   "cell_type": "code",
   "execution_count": 34,
   "id": "lyric-patrol",
   "metadata": {},
   "outputs": [
    {
     "data": {
      "text/plain": [
       "'Your leg is too short'"
      ]
     },
     "execution_count": 34,
     "metadata": {},
     "output_type": "execute_result"
    }
   ],
   "source": [
    "a.replace(\"Life\",\"Your leg\")"
   ]
  },
  {
   "cell_type": "code",
   "execution_count": 35,
   "id": "civil-rebecca",
   "metadata": {},
   "outputs": [],
   "source": [
    "a = \"Life is too short\""
   ]
  },
  {
   "cell_type": "code",
   "execution_count": 36,
   "id": "pregnant-collapse",
   "metadata": {},
   "outputs": [
    {
     "data": {
      "text/plain": [
       "['Life', 'is', 'too', 'short']"
      ]
     },
     "execution_count": 36,
     "metadata": {},
     "output_type": "execute_result"
    }
   ],
   "source": [
    "a.split()"
   ]
  },
  {
   "cell_type": "code",
   "execution_count": 37,
   "id": "civic-october",
   "metadata": {},
   "outputs": [],
   "source": [
    "b = \"a:b:c:d\""
   ]
  },
  {
   "cell_type": "code",
   "execution_count": 38,
   "id": "freelance-seven",
   "metadata": {},
   "outputs": [
    {
     "ename": "SyntaxError",
     "evalue": "invalid syntax (<ipython-input-38-a6969ffc18c5>, line 1)",
     "output_type": "error",
     "traceback": [
      "\u001b[1;36m  File \u001b[1;32m\"<ipython-input-38-a6969ffc18c5>\"\u001b[1;36m, line \u001b[1;32m1\u001b[0m\n\u001b[1;33m    b.split(:)\u001b[0m\n\u001b[1;37m            ^\u001b[0m\n\u001b[1;31mSyntaxError\u001b[0m\u001b[1;31m:\u001b[0m invalid syntax\n"
     ]
    }
   ],
   "source": [
    "b.split(:)"
   ]
  },
  {
   "cell_type": "code",
   "execution_count": 39,
   "id": "pleased-richardson",
   "metadata": {},
   "outputs": [
    {
     "data": {
      "text/plain": [
       "['a', 'b', 'c', 'd']"
      ]
     },
     "execution_count": 39,
     "metadata": {},
     "output_type": "execute_result"
    }
   ],
   "source": [
    "b.split(':')"
   ]
  },
  {
   "cell_type": "code",
   "execution_count": null,
   "id": "interpreted-leeds",
   "metadata": {},
   "outputs": [],
   "source": []
  }
 ],
 "metadata": {
  "kernelspec": {
   "display_name": "Python 3",
   "language": "python",
   "name": "python3"
  },
  "language_info": {
   "codemirror_mode": {
    "name": "ipython",
    "version": 3
   },
   "file_extension": ".py",
   "mimetype": "text/x-python",
   "name": "python",
   "nbconvert_exporter": "python",
   "pygments_lexer": "ipython3",
   "version": "3.9.2"
  }
 },
 "nbformat": 4,
 "nbformat_minor": 5
}
