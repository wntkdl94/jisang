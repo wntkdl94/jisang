{
 "cells": [
  {
   "cell_type": "code",
   "execution_count": 1,
   "id": "friendly-ministry",
   "metadata": {},
   "outputs": [],
   "source": [
    "test_list = ['one','two','three']"
   ]
  },
  {
   "cell_type": "code",
   "execution_count": 2,
   "id": "cathedral-following",
   "metadata": {},
   "outputs": [
    {
     "ename": "IndentationError",
     "evalue": "expected an indented block (<ipython-input-2-b645a13496c7>, line 1)",
     "output_type": "error",
     "traceback": [
      "\u001b[1;36m  File \u001b[1;32m\"<ipython-input-2-b645a13496c7>\"\u001b[1;36m, line \u001b[1;32m1\u001b[0m\n\u001b[1;33m    for i in test_list:\u001b[0m\n\u001b[1;37m                       ^\u001b[0m\n\u001b[1;31mIndentationError\u001b[0m\u001b[1;31m:\u001b[0m expected an indented block\n"
     ]
    }
   ],
   "source": [
    "for i in test_list:"
   ]
  },
  {
   "cell_type": "code",
   "execution_count": null,
   "id": "desirable-gnome",
   "metadata": {},
   "outputs": [],
   "source": [
    "for i in test_list:\n",
    "    print(i)\n"
   ]
  }
 ],
 "metadata": {
  "kernelspec": {
   "display_name": "Python 3",
   "language": "python",
   "name": "python3"
  },
  "language_info": {
   "codemirror_mode": {
    "name": "ipython",
    "version": 3
   },
   "file_extension": ".py",
   "mimetype": "text/x-python",
   "name": "python",
   "nbconvert_exporter": "python",
   "pygments_lexer": "ipython3",
   "version": "3.9.2"
  }
 },
 "nbformat": 4,
 "nbformat_minor": 5
}
